{
  "nbformat": 4,
  "nbformat_minor": 0,
  "metadata": {
    "colab": {
      "provenance": [],
      "authorship_tag": "ABX9TyMYKXAIHV8xkZ6JMYNKZ1Sb",
      "include_colab_link": true
    },
    "kernelspec": {
      "name": "python3",
      "display_name": "Python 3"
    },
    "language_info": {
      "name": "python"
    }
  },
  "cells": [
    {
      "cell_type": "markdown",
      "metadata": {
        "id": "view-in-github",
        "colab_type": "text"
      },
      "source": [
        "<a href=\"https://colab.research.google.com/github/dayoungcho/cau/blob/main/ch1.ipynb\" target=\"_parent\"><img src=\"https://colab.research.google.com/assets/colab-badge.svg\" alt=\"Open In Colab\"/></a>"
      ]
    },
    {
      "cell_type": "markdown",
      "source": [
        "# Setting up an environment\n"
      ],
      "metadata": {
        "id": "V0B0EuGB0gWd"
      }
    },
    {
      "cell_type": "code",
      "source": [
        "from google.colab import drive\n",
        "drive.mount('/content/drive')"
      ],
      "metadata": {
        "colab": {
          "base_uri": "https://localhost:8080/"
        },
        "id": "JHBmUCw70jkL",
        "outputId": "d8b45b36-93fc-44f6-b197-2bebdb26ad79"
      },
      "execution_count": null,
      "outputs": [
        {
          "output_type": "stream",
          "name": "stdout",
          "text": [
            "Mounted at /content/drive\n"
          ]
        }
      ]
    },
    {
      "cell_type": "code",
      "source": [
        "cd \"/content/drive/MyDrive\""
      ],
      "metadata": {
        "colab": {
          "base_uri": "https://localhost:8080/"
        },
        "id": "gPWBRuLH0mWY",
        "outputId": "725e5cda-7a56-4505-8421-1c2769cc826f"
      },
      "execution_count": null,
      "outputs": [
        {
          "output_type": "stream",
          "name": "stdout",
          "text": [
            "/content/drive/MyDrive\n"
          ]
        }
      ]
    },
    {
      "cell_type": "code",
      "source": [
        "!git clone https://github.com/ikwak2/Hands-On-Data-Analysis-with-Pandas-2nd-edition.git"
      ],
      "metadata": {
        "colab": {
          "base_uri": "https://localhost:8080/"
        },
        "id": "NWi7lcg00xrI",
        "outputId": "521c2c8e-ab59-4930-bffd-363e7ede25fe"
      },
      "execution_count": null,
      "outputs": [
        {
          "output_type": "stream",
          "name": "stdout",
          "text": [
            "Cloning into 'Hands-On-Data-Analysis-with-Pandas-2nd-edition'...\n",
            "remote: Enumerating objects: 3258, done.\u001b[K\n",
            "remote: Counting objects: 100% (3258/3258), done.\u001b[K\n",
            "remote: Compressing objects: 100% (1163/1163), done.\u001b[K\n",
            "remote: Total 3258 (delta 2046), reused 3218 (delta 2041), pack-reused 0\u001b[K\n",
            "Receiving objects: 100% (3258/3258), 74.98 MiB | 11.79 MiB/s, done.\n",
            "Resolving deltas: 100% (2046/2046), done.\n",
            "Updating files: 100% (210/210), done.\n"
          ]
        }
      ]
    },
    {
      "cell_type": "code",
      "source": [],
      "metadata": {
        "id": "pA54GjVm1GhC"
      },
      "execution_count": null,
      "outputs": []
    }
  ]
}